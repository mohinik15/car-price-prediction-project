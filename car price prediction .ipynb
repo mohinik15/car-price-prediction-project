{
 "cells": [
  {
   "cell_type": "markdown",
   "id": "2267d69e",
   "metadata": {},
   "source": [
    "# Used Car Price Prediction Project\n",
    "\n",
    "With the COVID 19 impact in the market, we have seen lot of changes in the used car market. Now some cars are in demand hence making them costly and some are not in demand hence cheaper. One of our clients works with small traders, who sell used cars. With the change in market due to COVID 19 impact, our client is facing problems with their previous car price valuation machine learning models. So, they are looking for new machine learning models from new data. We have to make car price valuation model.\n",
    "\n",
    "This project contains two phase.\n",
    "\n",
    "- Data Collection Phase: You have to scrape at least 5000 used cars data. You can scrape more data as well, it’s up to you. more the data better the model. In this section you need to scrape the data of used cars from websites (Olx, Cardekho, Cars24 etc.) You need web scraping for this. You have to fetch data for different locations. The number of columns for data doesn’t have limit, it’s up to you and your creativity. Generally, these columns are Brand, model, variant, manufacturing year, driven kilometers, fuel, number of owners, location and at last target variable Price of the car. This data is to give you a hint about important variables in used car model. You can make changes to it, you can add or you can remove some columns, it completely depends on the website from which you are fetching the data. Try to include all types of cars in your data for example - SUV, Sedans, Coupe, Minivan, Hatchback.\n",
    "\n",
    "- Model Building Phase: After collecting the data, you need to build a machine learning model. Before model building do all data pre-processing steps. Try different models with different hyper parameters and select the best model. Follow the complete life cycle of data science. Include all the below steps.\n",
    "\n",
    "1.Data Cleaning\n",
    "2.Exploratory Data Analysis\n",
    "3.Data Pre-processing\n",
    "4.Model Building\n",
    "5.Model Evaluation\n",
    "6.Selecting the best model\n"
   ]
  },
  {
   "cell_type": "code",
   "execution_count": null,
   "id": "8539dca2",
   "metadata": {},
   "outputs": [],
   "source": [
    "import warnings\n",
    "warnings.simplefilter(\"ignore\")\n",
    "warnings.filterwarnings(\"ignore\")\n",
    "import joblib\n",
    "\n",
    "import pandas as pd\n",
    "import numpy as np\n",
    "import seaborn as sns\n",
    "import matplotlib.pyplot as plt\n",
    "%matplotlib inline\n",
    "\n",
    "import missingno\n",
    "import pandas_profiling\n",
    "from sklearn import metrics\n",
    "from scipy.stats import zscore\n",
    "from sklearn.preprocessing import OrdinalEncoder\n",
    "from sklearn.preprocessing import StandardScaler\n",
    "from sklearn.model_selection import train_test_split\n",
    "\n",
    "from sklearn.linear_model import LinearRegression, Ridge, Lasso\n",
    "from sklearn.svm import SVR\n",
    "from sklearn.tree import DecisionTreeRegressor\n",
    "from sklearn.ensemble import RandomForestRegressor\n",
    "from sklearn.neighbors import KNeighborsRegressor\n",
    "from sklearn.ensemble import AdaBoostRegressor\n",
    "from sklearn.ensemble import ExtraTreesRegressor\n",
    "from sklearn.ensemble import GradientBoostingRegressor\n",
    "\n",
    "from sklearn.metrics import r2_score\n",
    "from sklearn.metrics import mean_squared_error\n",
    "from sklearn.model_selection import cross_val_score\n",
    "from sklearn.model_selection import GridSearchCV"
   ]
  },
  {
   "cell_type": "code",
   "execution_count": null,
   "id": "058631bd",
   "metadata": {},
   "outputs": [],
   "source": [
    "df = pd.read_csv(r\"C:\\Users\\swrai\\Desktop\\Used_Car_Data.csv\")"
   ]
  },
  {
   "cell_type": "code",
   "execution_count": null,
   "id": "f9a483b9",
   "metadata": {},
   "outputs": [],
   "source": [
    "df # checking the first 5 and last 5 rows"
   ]
  },
  {
   "cell_type": "markdown",
   "id": "68a43df3",
   "metadata": {},
   "source": [
    "# Exploratory Data Analysis (EDA)"
   ]
  },
  {
   "cell_type": "code",
   "execution_count": null,
   "id": "9ce8a071",
   "metadata": {},
   "outputs": [],
   "source": [
    "print(\"We have {} Rows and {} Columns in our dataframe\".format(df.shape[0], df.shape[1]))\n",
    "df.head()"
   ]
  },
  {
   "cell_type": "code",
   "execution_count": null,
   "id": "c29c19fb",
   "metadata": {},
   "outputs": [],
   "source": [
    "df.isna().sum() # checking for missing values"
   ]
  },
  {
   "cell_type": "code",
   "execution_count": null,
   "id": "8881be87",
   "metadata": {},
   "outputs": [],
   "source": [
    "missingno.bar(df, figsize = (25,5), color=\"tab:red\")"
   ]
  },
  {
   "cell_type": "code",
   "execution_count": null,
   "id": "ddc04bd3",
   "metadata": {},
   "outputs": [],
   "source": [
    "print(\"Missing column values in percentage:\")\n",
    "for col in df:\n",
    "    percentage = np.round((df[col].isnull().sum()/df.shape[0])*100, 6)\n",
    "    print(col, \":\".format(), percentage, '%')"
   ]
  },
  {
   "cell_type": "code",
   "execution_count": null,
   "id": "d269b0e1",
   "metadata": {},
   "outputs": [],
   "source": [
    "df.info()"
   ]
  },
  {
   "cell_type": "code",
   "execution_count": null,
   "id": "0bc3bac2",
   "metadata": {},
   "outputs": [],
   "source": [
    "df.nunique().sort_values().to_frame(\"Unique Values\")"
   ]
  },
  {
   "cell_type": "code",
   "execution_count": null,
   "id": "45cc0e5a",
   "metadata": {},
   "outputs": [],
   "source": [
    "value = [\"Transmission Type\", \"Fuel Type\", \"Year of Manufacture\"]\n",
    "for col in value:\n",
    "    print(col)\n",
    "    print(df[col].value_counts())\n",
    "    print(\"=\"*120)"
   ]
  },
  {
   "cell_type": "code",
   "execution_count": null,
   "id": "085b54a4",
   "metadata": {},
   "outputs": [],
   "source": [
    "# Data pre processing\n",
    "\n",
    "df[\"Kilometers Driven\"]=df[\"Kilometers Driven\"].apply(lambda x: x.replace(',','') if x!='-' else '-')\n",
    "df[\"Kilometers Driven\"]=df[\"Kilometers Driven\"].apply(lambda x: int(x.split(' ')[0]) if x!='-' else 0)\n",
    "df"
   ]
  },
  {
   "cell_type": "code",
   "execution_count": null,
   "id": "d7c2f2db",
   "metadata": {},
   "outputs": [],
   "source": [
    "try:\n",
    "    df[\"Used Car Price\"]=df[\"Used Car Price\"].apply(lambda x: x.split(' ')[1] if x!='-' else '0,0')\n",
    "except IndexError:\n",
    "    pass\n",
    "\n",
    "try:\n",
    "    df[\"Used Car Price\"]=df[\"Used Car Price\"].apply(lambda x: str(x.replace(',', '')))\n",
    "except ValueError:\n",
    "    pass\n",
    "\n",
    "df[\"Used Car Price\"]=df[\"Used Car Price\"].str.strip() # removing extra white space from the column records\n",
    "df[\"Used Car Price\"]=pd.to_numeric(df[\"Used Car Price\"].str.replace('-','0'), errors='coerce')\n",
    "df[\"Used Car Price\"]=df[\"Used Car Price\"].astype(float) # converting object to float data type\n",
    "df"
   ]
  },
  {
   "cell_type": "code",
   "execution_count": null,
   "id": "fd8e9f40",
   "metadata": {},
   "outputs": [],
   "source": [
    "df[\"Year of Manufacture\"]=df[\"Year of Manufacture\"].apply(lambda x: int(x.strip()[0:4]) if x!='-' else 0)\n",
    "median_val_year=df[\"Year of Manufacture\"].median()\n",
    "df[\"Year of Manufacture\"]=df[\"Year of Manufacture\"].apply(lambda x: x if x!=0 else median_val_year)\n",
    "df[\"Year of Manufacture\"]=df[\"Year of Manufacture\"].astype(int)\n",
    "df\n"
   ]
  },
  {
   "cell_type": "code",
   "execution_count": null,
   "id": "87cac77c",
   "metadata": {},
   "outputs": [],
   "source": [
    "df[\"Fuel Type\"]=df[\"Fuel Type\"].apply(lambda x: x if x!='-' else 'Petrol') # replacing with common fuel type in india\n",
    "df[\"Transmission Type\"]=df[\"Transmission Type\"].apply(lambda x: x if x!='-' else 'Manual') # common transmission is manual\n",
    "df[\"Used Car Model\"]=df[\"Used Car Model\"].apply(lambda x: x if x!='-' else 'Hyundai') # common used car model\n",
    "df[\"Kilometers Driven\"]=df[\"Kilometers Driven\"].apply(lambda x: x if x!='-' else 'None')\n",
    "avg_usedcar_price=df[\"Used Car Price\"].mean()\n",
    "df[\"Used Car Price\"]=df[\"Used Car Price\"].apply(lambda x: x if x!='-' else avg_usedcar_price) # average used car prices\n",
    "df"
   ]
  },
  {
   "cell_type": "code",
   "execution_count": null,
   "id": "f8491357",
   "metadata": {},
   "outputs": [],
   "source": [
    "df.nunique().sort_values().to_frame(\"Unique Values\")"
   ]
  },
  {
   "cell_type": "code",
   "execution_count": null,
   "id": "648994c5",
   "metadata": {},
   "outputs": [],
   "source": [
    "for col in value:\n",
    "    print(col)\n",
    "    print(df[col].value_counts())\n",
    "    print(\"=\"*120)"
   ]
  },
  {
   "cell_type": "code",
   "execution_count": null,
   "id": "0db0883a",
   "metadata": {},
   "outputs": [],
   "source": [
    "df.info()"
   ]
  },
  {
   "cell_type": "code",
   "execution_count": null,
   "id": "12b3612d",
   "metadata": {},
   "outputs": [],
   "source": [
    "df.describe(include=\"all\")"
   ]
  },
  {
   "cell_type": "code",
   "execution_count": null,
   "id": "f028b391",
   "metadata": {},
   "outputs": [],
   "source": [
    "# visualizing the statistical description of numeric datatype columns\n",
    "\n",
    "plt.figure(figsize = (10,7))\n",
    "sns.heatmap(round(df.describe()[1:],2), linewidth = 2, annot= True, fmt = \".2f\", cmap=\"hot\")\n",
    "plt.title(\"Satistical Report of Numerical Columns\\n\")\n",
    "plt.xticks(fontsize = 10)\n",
    "plt.yticks(fontsize = 10)\n",
    "plt.show()"
   ]
  },
  {
   "cell_type": "markdown",
   "id": "b43f809d",
   "metadata": {},
   "source": [
    "# visualization"
   ]
  },
  {
   "cell_type": "code",
   "execution_count": null,
   "id": "e4c55433",
   "metadata": {},
   "outputs": [],
   "source": [
    "pandas_profiling.ProfileReport(df)"
   ]
  },
  {
   "cell_type": "code",
   "execution_count": null,
   "id": "5a773d3e",
   "metadata": {},
   "outputs": [],
   "source": [
    "try:\n",
    "    x = 'Transmission Type'\n",
    "    k=0\n",
    "    plt.figure(figsize=[5,7])\n",
    "    axes = sns.countplot(df[x])\n",
    "    for i in axes.patches:\n",
    "        ht = i.get_height()\n",
    "        mr = len(df[x])\n",
    "        st = f\"{ht} ({round(ht*100/mr,2)}%)\"\n",
    "        plt.text(k, ht/2, st, ha='center', fontweight='bold')\n",
    "        k += 1\n",
    "    plt.ylim(0,10000)\n",
    "    plt.title(f'Count Plot for {x} column\\n')\n",
    "    plt.ylabel(f'total number of rows covered\\n')\n",
    "    plt.show()\n",
    "    \n",
    "except Exception as e:\n",
    "    print(\"Error:\", e)\n",
    "    pass"
   ]
  },
  {
   "cell_type": "code",
   "execution_count": null,
   "id": "63e10ca4",
   "metadata": {},
   "outputs": [],
   "source": [
    "try:\n",
    "    x = 'Fuel Type'\n",
    "    k=0\n",
    "    plt.figure(figsize=[15,7])\n",
    "    axes = sns.countplot(df[x])\n",
    "    for i in axes.patches:\n",
    "        ht = i.get_height()\n",
    "        mr = len(df[x])\n",
    "        st = f\"{ht} ({round(ht*100/mr,2)}%)\"\n",
    "        plt.text(k, ht/2, st, ha='center', fontweight='bold')\n",
    "        k += 1\n",
    "    plt.ylim(0,6000)\n",
    "    plt.title(f'Count Plot for {x} column\\n')\n",
    "    plt.ylabel(f'total number of rows covered\\n')\n",
    "    plt.show()\n",
    "    \n",
    "except Exception as e:\n",
    "    print(\"Error:\", e)\n",
    "    pass"
   ]
  },
  {
   "cell_type": "code",
   "execution_count": null,
   "id": "0a394a91",
   "metadata": {},
   "outputs": [],
   "source": [
    "y = 'Transmission Type'\n",
    "\n",
    "x = 'Year of Manufacture'\n",
    "plt.figure(figsize=[15,7])\n",
    "sns.barplot(x,y,data=df,orient='h')\n",
    "plt.title(f\"Barplot for {x} column vs {y} column\")\n",
    "plt.show()\n",
    "\n",
    "x = 'Kilometers Driven'\n",
    "plt.figure(figsize=[15,7])\n",
    "sns.barplot(x,y,data=df,orient='h')\n",
    "plt.title(f\"Barplot for {x} column vs {y} column\")\n",
    "plt.show()\n",
    "\n",
    "x = 'Used Car Price'\n",
    "plt.figure(figsize=[15,7])\n",
    "sns.barplot(x,y,data=df,orient='h')\n",
    "plt.title(f\"Barplot for {x} column vs {y} column\")\n",
    "plt.show()"
   ]
  },
  {
   "cell_type": "code",
   "execution_count": null,
   "id": "7d63d53f",
   "metadata": {},
   "outputs": [],
   "source": [
    "plt.figure(figsize=[15,7])\n",
    "purchased_car_per_year = df['Year of Manufacture'].value_counts()\n",
    "purchased_car_per_year.plot(kind='bar')\n",
    "plt.xlabel(\"\\nPurchase Year\")\n",
    "plt.ylabel(\"Purchased Cars\")\n",
    "plt.title(\"Purchase Year vs Number of Purchased Cars\")\n",
    "plt.show()"
   ]
  },
  {
   "cell_type": "code",
   "execution_count": null,
   "id": "59dcc3fb",
   "metadata": {},
   "outputs": [],
   "source": [
    "print(\"Pair Plot with Transmission Type legend\")\n",
    "sns.pairplot(df, hue='Transmission Type', diag_kind=\"kde\", kind=\"scatter\", palette=\"Set2\", height=3.5)\n",
    "plt.show()\n",
    "print(\"Pair Plot with Fuel Type legend\")\n",
    "sns.pairplot(df, hue='Fuel Type', diag_kind=\"kde\", kind=\"scatter\", palette=\"tab10\", height=3.5)\n",
    "plt.show()"
   ]
  },
  {
   "cell_type": "code",
   "execution_count": null,
   "id": "bec57c57",
   "metadata": {},
   "outputs": [],
   "source": [
    "Manual = df[df['Transmission Type']=='Manual']\n",
    "Automatic = df[df['Transmission Type']=='Automatic']\n",
    "\n",
    "print('Manual transmission type used car fuel details')\n",
    "sns.pairplot(Manual, hue='Fuel Type', diag_kind=\"kde\", kind=\"scatter\", palette=\"tab10\", height=3.5)\n",
    "plt.show()\n",
    "\n",
    "print('Automatic transmission type used car fuel details')\n",
    "sns.pairplot(Automatic, hue='Fuel Type', diag_kind=\"kde\", kind=\"scatter\", palette=\"hls\", height=3.5)\n",
    "plt.show()"
   ]
  },
  {
   "cell_type": "markdown",
   "id": "a32cd23c",
   "metadata": {},
   "source": [
    "# Encoding the categorical object datatype columns"
   ]
  },
  {
   "cell_type": "code",
   "execution_count": null,
   "id": "1c2a4993",
   "metadata": {},
   "outputs": [],
   "source": [
    "# Ordinal Encoder\n",
    "\n",
    "oe = OrdinalEncoder()\n",
    "def ordinal_encode(df, column):\n",
    "    df[column] = oe.fit_transform(df[column])\n",
    "    return df\n",
    "\n",
    "column=[\"Transmission Type\", \"Fuel Type\", \"Used Car Model\"]\n",
    "df=ordinal_encode(df, column)\n",
    "df"
   ]
  },
  {
   "cell_type": "code",
   "execution_count": null,
   "id": "418bc2b7",
   "metadata": {},
   "outputs": [],
   "source": [
    "print(\"Shape of our data frame post encoding shows {} Rows and {} columns\\n\".format(df.shape[0], df.shape[1]))"
   ]
  },
  {
   "cell_type": "code",
   "execution_count": null,
   "id": "475726fe",
   "metadata": {},
   "outputs": [],
   "source": [
    "plt.style.use('seaborn-bright')\n",
    "\n",
    "df.hist(figsize=(20,20))\n",
    "plt.show()"
   ]
  },
  {
   "cell_type": "markdown",
   "id": "f1214639",
   "metadata": {},
   "source": [
    "# Correlation using a Heatmap\n",
    "\n",
    "Positive correlation - A correlation of +1 indicates a perfect positive correlation, meaning that both variables move in the same direction together\n",
    ".\n",
    "Negative correlation - A correlation of –1 indicates a perfect negative correlation, meaning that as one variable goes up, the other goes down."
   ]
  },
  {
   "cell_type": "code",
   "execution_count": null,
   "id": "3b341090",
   "metadata": {},
   "outputs": [],
   "source": [
    "upper_triangle = np.triu(df.corr())\n",
    "plt.figure(figsize=(15,10))\n",
    "sns.heatmap(df.corr(), vmin=-1, vmax=1, annot=True, square=True, fmt='0.3f', \n",
    "            annot_kws={'size':10}, cmap=\"cubehelix\", mask=upper_triangle)\n",
    "plt.xticks(fontsize=14)\n",
    "plt.yticks(fontsize=14)\n",
    "plt.show()"
   ]
  },
  {
   "cell_type": "markdown",
   "id": "2b27e105",
   "metadata": {},
   "source": [
    "# Correlation Bar Plot comparing Gender column with the remaining columns"
   ]
  },
  {
   "cell_type": "code",
   "execution_count": null,
   "id": "408ada97",
   "metadata": {},
   "outputs": [],
   "source": [
    "df_corr = df.corr()\n",
    "plt.figure(figsize=(14,7))\n",
    "df_corr['Used Car Price'].sort_values(ascending=False).drop('Used Car Price').plot.bar()\n",
    "plt.title(\"Correlation of Feature columns vs Label\\n\", fontsize=16)\n",
    "plt.xlabel(\"\\nFeatures List\", fontsize=14)\n",
    "plt.ylabel(\"Correlation Value\", fontsize=14)\n",
    "plt.show()"
   ]
  },
  {
   "cell_type": "raw",
   "id": "d3c073f0",
   "metadata": {},
   "source": [
    "outliers"
   ]
  },
  {
   "cell_type": "code",
   "execution_count": null,
   "id": "aadd8c1e",
   "metadata": {},
   "outputs": [],
   "source": [
    "plt.figure(figsize=(14,7))\n",
    "outl_df = df.columns.values\n",
    "for i in range(0, len(outl_df)):\n",
    "    plt.subplot(2, 3, i+1)\n",
    "    ax = sns.boxenplot(df[outl_df[i]], color='red')\n",
    "    plt.tight_layout()"
   ]
  },
  {
   "cell_type": "code",
   "execution_count": null,
   "id": "f0f15a8b",
   "metadata": {},
   "outputs": [],
   "source": [
    "# Using Z Score to remove outliers\n",
    "\n",
    "z = np.abs(zscore(df))\n",
    "threshold = 3\n",
    "df1 = df[(z<3).all(axis = 1)]\n",
    "\n",
    "print (\"Shape of the dataframe before removing outliers: \", df.shape)\n",
    "print (\"Shape of the dataframe after removing outliers: \", df1.shape)\n",
    "print (\"Percentage of data loss post outlier removal: \", (df.shape[0]-df1.shape[0])/df.shape[0]*100)\n",
    "\n",
    "df=df1.copy() # reassigning the changed dataframe name to our original dataframe name\n"
   ]
  },
  {
   "cell_type": "code",
   "execution_count": null,
   "id": "a1c5998b",
   "metadata": {},
   "outputs": [],
   "source": [
    "# plt.style.use('fast')\n",
    "\n",
    "fig, ax = plt.subplots(ncols=3, nrows=2, figsize=(14,7))\n",
    "index = 0\n",
    "ax = ax.flatten()\n",
    "for col, value in df.items():\n",
    "    sns.boxenplot(y=col, data=df, ax=ax[index], color=\"purple\")\n",
    "    index += 1\n",
    "plt.tight_layout(pad=0.4, w_pad=0.4, h_pad=1.0)\n",
    "plt.show()"
   ]
  },
  {
   "cell_type": "raw",
   "id": "5a04afd0",
   "metadata": {},
   "source": [
    "Skewness"
   ]
  },
  {
   "cell_type": "code",
   "execution_count": null,
   "id": "a3a45691",
   "metadata": {},
   "outputs": [],
   "source": [
    "df.skew()"
   ]
  },
  {
   "cell_type": "code",
   "execution_count": null,
   "id": "414f9c20",
   "metadata": {},
   "outputs": [],
   "source": [
    "plt.figure(figsize=(14,7))\n",
    "for i in range(0, len(outl_df)):\n",
    "    plt.subplot(2, 3, i+1)\n",
    "    ax = sns.distplot(df[outl_df[i]], color='blue')\n",
    "    plt.tight_layout()"
   ]
  },
  {
   "cell_type": "code",
   "execution_count": null,
   "id": "a08d2e9f",
   "metadata": {},
   "outputs": [],
   "source": [
    "# Using Log Transform to fix skewness\n",
    "\n",
    "df_log=df.copy()\n",
    "for col in df_log.columns:\n",
    "    if df_log.skew().loc[col]>0.55:\n",
    "        df_log[col]=np.log1p(df_log[col])"
   ]
  },
  {
   "cell_type": "code",
   "execution_count": null,
   "id": "da23e30a",
   "metadata": {},
   "outputs": [],
   "source": [
    "fig, ax = plt.subplots(ncols=3, nrows=2, figsize=(14,7))\n",
    "index = 0\n",
    "ax = ax.flatten()\n",
    "for col, value in df_log.items():\n",
    "    sns.distplot(value, ax=ax[index], hist=False, color=\"g\", kde_kws={\"shade\": True})\n",
    "    index += 1\n",
    "plt.tight_layout(pad=0.4, w_pad=0.4, h_pad=1.0)\n",
    "plt.show()"
   ]
  },
  {
   "cell_type": "markdown",
   "id": "670910a2",
   "metadata": {},
   "source": [
    "# splitting the dataset into 2 variables namely 'X' and 'Y' for feature and label"
   ]
  },
  {
   "cell_type": "code",
   "execution_count": null,
   "id": "38b20326",
   "metadata": {},
   "outputs": [],
   "source": [
    "X = df_log.drop('Used Car Price', axis=1)\n",
    "Y = df_log['Used Car Price']"
   ]
  },
  {
   "cell_type": "markdown",
   "id": "e391b1ec",
   "metadata": {},
   "source": [
    "# feature scaling"
   ]
  },
  {
   "cell_type": "code",
   "execution_count": null,
   "id": "c0d171ec",
   "metadata": {},
   "outputs": [],
   "source": [
    "scaler = StandardScaler()\n",
    "X = pd.DataFrame(scaler.fit_transform(X), columns=X.columns)\n",
    "X.head()"
   ]
  },
  {
   "cell_type": "markdown",
   "id": "1f529442",
   "metadata": {},
   "source": [
    "# Finding the best random state for building Regression Models"
   ]
  },
  {
   "cell_type": "code",
   "execution_count": null,
   "id": "204dc804",
   "metadata": {},
   "outputs": [],
   "source": [
    "maxAccu=0\n",
    "maxRS=0\n",
    "\n",
    "for i in range(1, 1000):\n",
    "    X_train, X_test, Y_train, Y_test = train_test_split(X, Y, test_size=0.25, random_state=i)\n",
    "    lr=LinearRegression()\n",
    "    lr.fit(X_train, Y_train)\n",
    "    pred = lr.predict(X_test)\n",
    "    r2 = r2_score(Y_test, pred)\n",
    "    \n",
    "    if r2>maxAccu:\n",
    "        maxAccu=r2\n",
    "        maxRS=i\n",
    "\n",
    "print(\"Best R2 score is\", maxAccu*100,\"on Random State\", maxRS)\n"
   ]
  },
  {
   "cell_type": "markdown",
   "id": "8459fff4",
   "metadata": {},
   "source": [
    "# Feature importance bar graph"
   ]
  },
  {
   "cell_type": "code",
   "execution_count": null,
   "id": "757407d6",
   "metadata": {},
   "outputs": [],
   "source": [
    "rf=RandomForestRegressor()\n",
    "rf.fit(X_train, Y_train)\n",
    "importances = pd.DataFrame({'Features':X.columns, 'Importance':np.round(rf.feature_importances_,3)})\n",
    "importances = importances.sort_values('Importance', ascending=False).set_index('Features')\n",
    "plt.rcParams[\"figure.figsize\"] = (14,7)\n",
    "importances.plot.bar(color='teal')\n",
    "importances"
   ]
  },
  {
   "cell_type": "markdown",
   "id": "f994b9db",
   "metadata": {},
   "source": [
    "# Machine Learning Model for Regression with Evaluation Metrics"
   ]
  },
  {
   "cell_type": "code",
   "execution_count": null,
   "id": "c87ceb65",
   "metadata": {},
   "outputs": [],
   "source": [
    "# Regression Model Function\n",
    "\n",
    "def reg(model, X, Y):\n",
    "    X_train, X_test, Y_train, Y_test = train_test_split(X, Y, test_size=0.25, random_state=251)\n",
    "    \n",
    "    # Training the model\n",
    "    model.fit(X_train, Y_train)\n",
    "    \n",
    "    # Predicting Y_test\n",
    "    pred = model.predict(X_test)\n",
    "    \n",
    "    # RMSE - a lower RMSE score is better than a higher one\n",
    "    rmse = mean_squared_error(Y_test, pred, squared=False)\n",
    "    print(\"RMSE Score is:\", rmse)\n",
    "    \n",
    "    # R2 score\n",
    "    r2 = r2_score(Y_test, pred, multioutput='variance_weighted')*100\n",
    "    print(\"R2 Score is:\", r2)\n",
    "    \n",
    "    # Cross Validation Score\n",
    "    cv_score = (cross_val_score(model, X, Y, cv=5).mean())*100\n",
    "    print(\"Cross Validation Score:\", cv_score)\n",
    "    \n",
    "    # Result of r2 score minus cv score\n",
    "    result = r2 - cv_score\n",
    "    print(\"R2 Score - Cross Validation Score is\", result)"
   ]
  },
  {
   "cell_type": "code",
   "execution_count": null,
   "id": "c3fa1259",
   "metadata": {},
   "outputs": [],
   "source": [
    "# Linear Regression Model\n",
    "\n",
    "model=LinearRegression()\n",
    "reg(model, X, Y)"
   ]
  },
  {
   "cell_type": "code",
   "execution_count": null,
   "id": "89fbb315",
   "metadata": {},
   "outputs": [],
   "source": [
    "# Ridge Regularization\n",
    "\n",
    "model=Ridge(alpha=1e-2, normalize=True)\n",
    "reg(model, X, Y)"
   ]
  },
  {
   "cell_type": "code",
   "execution_count": null,
   "id": "f4aa22a1",
   "metadata": {},
   "outputs": [],
   "source": [
    "# Lasso Regularization\n",
    "\n",
    "model=Lasso(alpha=1e-2, normalize=True, max_iter=1e5)\n",
    "reg(model, X, Y)"
   ]
  },
  {
   "cell_type": "code",
   "execution_count": null,
   "id": "9ba9bda0",
   "metadata": {},
   "outputs": [],
   "source": [
    "# Support Vector Regression\n",
    "\n",
    "model=SVR(C=1.0, epsilon=0.2, kernel='poly', gamma='auto')\n",
    "reg(model, X, Y)"
   ]
  },
  {
   "cell_type": "code",
   "execution_count": null,
   "id": "44bcb9bc",
   "metadata": {},
   "outputs": [],
   "source": [
    "# Decision Tree Regressor\n",
    "\n",
    "model=DecisionTreeRegressor(criterion=\"poisson\", random_state=111)\n",
    "reg(model, X, Y)"
   ]
  },
  {
   "cell_type": "code",
   "execution_count": null,
   "id": "cfaa734e",
   "metadata": {},
   "outputs": [],
   "source": [
    "# Random Forest Regressor\n",
    "\n",
    "model=RandomForestRegressor(max_depth=2, max_features=\"sqrt\")\n",
    "reg(model, X, Y)"
   ]
  },
  {
   "cell_type": "code",
   "execution_count": null,
   "id": "60327e22",
   "metadata": {},
   "outputs": [],
   "source": [
    "# K Neighbors Regressor\n",
    "\n",
    "KNeighborsRegressor(n_neighbors=2, algorithm='kd_tree')\n",
    "reg(model, X, Y)"
   ]
  },
  {
   "cell_type": "code",
   "execution_count": null,
   "id": "0f3c77a8",
   "metadata": {},
   "outputs": [],
   "source": [
    "# Gradient Boosting Regressor\n",
    "\n",
    "model=GradientBoostingRegressor(loss='quantile', n_estimators=200, max_depth=5)\n",
    "reg(model, X, Y)\n"
   ]
  },
  {
   "cell_type": "code",
   "execution_count": null,
   "id": "8050be9e",
   "metadata": {},
   "outputs": [],
   "source": [
    "# Ada Boost Regressor\n",
    "\n",
    "model=AdaBoostRegressor(n_estimators=300, learning_rate=1.05, random_state=42)\n",
    "reg(model, X, Y)"
   ]
  },
  {
   "cell_type": "code",
   "execution_count": null,
   "id": "84aa656d",
   "metadata": {},
   "outputs": [],
   "source": [
    "# Extra Trees Regressor\n",
    "\n",
    "model=ExtraTreesRegressor(n_estimators=200, max_features='sqrt', n_jobs=6)\n",
    "reg(model, X, Y)"
   ]
  },
  {
   "cell_type": "markdown",
   "id": "1219b3c3",
   "metadata": {},
   "source": [
    "# Hyper parameter tuning"
   ]
  },
  {
   "cell_type": "code",
   "execution_count": null,
   "id": "d0decac6",
   "metadata": {},
   "outputs": [],
   "source": [
    "# Choosing Extra Trees Regressor\n",
    "\n",
    "fmod_param = {'n_estimators' : [100, 200, 300],\n",
    "              'criterion' : ['squared_error', 'mse', 'absolute_error', 'mae'],\n",
    "              'n_jobs' : [-2, -1, 1],\n",
    "              'random_state' : [42, 251, 340]\n",
    "             }\n",
    "\n",
    "GSCV = GridSearchCV(ExtraTreesRegressor(), fmod_param, cv=5)\n",
    "GSCV.fit(X_train,Y_train)"
   ]
  },
  {
   "cell_type": "code",
   "execution_count": null,
   "id": "064136db",
   "metadata": {},
   "outputs": [],
   "source": [
    "GSCV.best_params_"
   ]
  },
  {
   "cell_type": "code",
   "execution_count": null,
   "id": "6960be10",
   "metadata": {},
   "outputs": [],
   "source": [
    "Final_Model = ExtraTreesRegressor(criterion='mse', n_estimators=300, n_jobs=-1, random_state=42)\n",
    "Model_Training = Final_Model.fit(X_train, Y_train)\n",
    "fmod_pred = Final_Model.predict(X_test)\n",
    "fmod_r2 = r2_score(Y_test, fmod_pred, multioutput='variance_weighted')*100\n",
    "print(\"R2 score for the Best Model is:\", fmod_r2)"
   ]
  },
  {
   "cell_type": "markdown",
   "id": "7290d662",
   "metadata": {},
   "source": [
    "# Prediction of Used Car Price"
   ]
  },
  {
   "cell_type": "code",
   "execution_count": null,
   "id": "c883f3fc",
   "metadata": {},
   "outputs": [],
   "source": [
    "Predicted_Price = Final_Model.predict(X)\n",
    "# Reversing the Log Transformation that was performed on the Target column while training the ML Model\n",
    "Predicted_SalePrice = np.exp(Predicted_Price)\n",
    "# Checking the predicted price details in dataframe format\n",
    "predicted_output = pd.DataFrame()\n",
    "predicted_output['Used Car Price Predicted'] = Predicted_SalePrice\n",
    "predicted_output['Used Car Price Actual'] = df[\"Used Car Price\"]\n",
    "predicted_output"
   ]
  }
 ],
 "metadata": {
  "kernelspec": {
   "display_name": "Python 3 (ipykernel)",
   "language": "python",
   "name": "python3"
  },
  "language_info": {
   "codemirror_mode": {
    "name": "ipython",
    "version": 3
   },
   "file_extension": ".py",
   "mimetype": "text/x-python",
   "name": "python",
   "nbconvert_exporter": "python",
   "pygments_lexer": "ipython3",
   "version": "3.9.7"
  }
 },
 "nbformat": 4,
 "nbformat_minor": 5
}
